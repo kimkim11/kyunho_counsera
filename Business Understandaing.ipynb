{
    "cells": [
        {
            "cell_type": "markdown",
            "metadata": {
                "collapsed": true
            },
            "source": "# Covid 19 Pandemic"
        },
        {
            "cell_type": "markdown",
            "metadata": {
                "collapsed": true
            },
            "source": "## Kyu\n### September, 2020\n1.\t__Introduction__\n\n1.1.\t__Background__\nOn 31 December 2019, the Wuhan Municipal Health Commission in Wuhan City, Hubei province, China, reported a cluster of 27 pneumonia cases. \n\n1.2.\t__Problem__\nCOVID alone can produce serious illness and death.\n\n1.3.\t__Interest__\nDescribed problem and its analysis will be the most interest of different age.\n\n2.\t__Data acquisition and cleaning__\n\n2.1.\t__Data sources__\ndata had been fetched from National Institutes of Health(NIH), and CoronaBoard Open Data Program in CSV format. \n\n2.2.\t__Data cleaning and Feature selection__\n\nTo analyze the severity of potential infected cases on ages, I had to select the relevant Features within the Data Set. In fact, the severity of the cases of coivd 19 could depend on several factors not only age, sex, country but also habit, job.. . How to select the most important factors that affect the covid19 ? How to use them to build a model that can predict from different ages. how to stop spreading of cases? \n\n\nIn order to analzy the various factors effect on infection, evaluate these possibilities by fitting an age-structured mathematical model to epidemic data from as many as countries.   \nCOUNTTY: Country s a factor. (Y/N) \nAGE: Age s a factor. (Y/N) \nScool: Attending school is a factor. (Y/N)  \n"
        },
        {
            "cell_type": "code",
            "execution_count": null,
            "metadata": {},
            "outputs": [],
            "source": ""
        }
    ],
    "metadata": {
        "kernelspec": {
            "display_name": "Python 3.6",
            "language": "python",
            "name": "python3"
        },
        "language_info": {
            "codemirror_mode": {
                "name": "ipython",
                "version": 3
            },
            "file_extension": ".py",
            "mimetype": "text/x-python",
            "name": "python",
            "nbconvert_exporter": "python",
            "pygments_lexer": "ipython3",
            "version": "3.6.9"
        }
    },
    "nbformat": 4,
    "nbformat_minor": 1
}
